{
 "cells": [
  {
   "cell_type": "code",
   "execution_count": 2,
   "id": "386b1c49-1ac1-4fa3-9283-9368728cff7b",
   "metadata": {},
   "outputs": [],
   "source": [
    "import heapq\n",
    "import numpy as np\n",
    "import os\n",
    "import cProfile, pstats\n",
    "from flatland.core.grid.grid4_astar import a_star\n"
   ]
  },
  {
   "cell_type": "code",
   "execution_count": 10,
   "id": "f8ef9308-9962-49b9-a406-1e3d1f836521",
   "metadata": {},
   "outputs": [
    {
     "name": "stdout",
     "output_type": "stream",
     "text": [
      "in the heap  5\n",
      "in the heap  10\n",
      "[2, 3, 4, 5, 7, 67, 10, 12, 6]\n"
     ]
    }
   ],
   "source": [
    "l = [4,5,7,10,67,2,12,3]\n",
    "heap = []\n",
    "heapq.heappush(heap, 5)\n",
    "heapq.heappush(heap, 6)\n",
    "heapq.heappush(heap,10)\n",
    "\n",
    "while len(heap)>0:\n",
    "    for i in l:\n",
    "        if i in heap:\n",
    "            print(\"in the heap \", i)\n",
    "            continue\n",
    "        heapq.heappush(heap, i)\n",
    "    heapq.heappop(heap)\n",
    "\n",
    "print(heap)"
   ]
  },
  {
   "cell_type": "code",
   "execution_count": 5,
   "id": "fb28117e-81da-448c-b371-40c51bb65460",
   "metadata": {},
   "outputs": [
    {
     "name": "stdout",
     "output_type": "stream",
     "text": [
      "[2, 4, 3, 9, 5, 6, 7]\n",
      "[4, 5, 6, 9, 7]\n",
      "[5, 7, 6, 9]\n",
      "[6, 7, 9]\n",
      "[7, 9]\n",
      "[9]\n",
      "[]\n"
     ]
    }
   ],
   "source": [
    "heap = [7,9,2,4,5,6,3]\n",
    "\n",
    "heapq.heapify(heap)\n",
    "print(heap)\n",
    "heapq.heappop(heap)\n",
    "while len(heap)>0:\n",
    "    heapq.heappop(heap)\n",
    "    print(heap)"
   ]
  },
  {
   "cell_type": "code",
   "execution_count": null,
   "id": "0f019730-f835-47ed-b9a3-5d8cf74a3428",
   "metadata": {},
   "outputs": [],
   "source": []
  }
 ],
 "metadata": {
  "kernelspec": {
   "display_name": "Python 3 (ipykernel)",
   "language": "python",
   "name": "python3"
  },
  "language_info": {
   "codemirror_mode": {
    "name": "ipython",
    "version": 3
   },
   "file_extension": ".py",
   "mimetype": "text/x-python",
   "name": "python",
   "nbconvert_exporter": "python",
   "pygments_lexer": "ipython3",
   "version": "3.11.5"
  }
 },
 "nbformat": 4,
 "nbformat_minor": 5
}
