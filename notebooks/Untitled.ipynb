{
 "cells": [
  {
   "cell_type": "code",
   "execution_count": 1,
   "id": "386b1c49-1ac1-4fa3-9283-9368728cff7b",
   "metadata": {},
   "outputs": [],
   "source": [
    "import heapq\n",
    "import numpy as np\n",
    "import os\n",
    "import cProfile, pstats\n",
    "from flatland.core.grid.grid4_astar import a_star\n",
    "from flatland.core.grid.grid4_astar import AStarNode\n"
   ]
  },
  {
   "cell_type": "code",
   "execution_count": 10,
   "id": "f8ef9308-9962-49b9-a406-1e3d1f836521",
   "metadata": {},
   "outputs": [
    {
     "name": "stdout",
     "output_type": "stream",
     "text": [
      "in the heap  5\n",
      "in the heap  10\n",
      "[2, 3, 4, 5, 7, 67, 10, 12, 6]\n"
     ]
    }
   ],
   "source": [
    "l = [4,5,7,10,67,2,12,3]\n",
    "heap = []\n",
    "heapq.heappush(heap, 5)\n",
    "heapq.heappush(heap, 6)\n",
    "heapq.heappush(heap,10)\n",
    "\n",
    "while len(heap)>0:\n",
    "    for i in l:\n",
    "        if i in heap:\n",
    "            print(\"in the heap \", i)\n",
    "            continue\n",
    "        heapq.heappush(heap, i)\n",
    "    heapq.heappop(heap)\n",
    "\n",
    "print(heap)"
   ]
  },
  {
   "cell_type": "code",
   "execution_count": 5,
   "id": "fb28117e-81da-448c-b371-40c51bb65460",
   "metadata": {},
   "outputs": [
    {
     "name": "stdout",
     "output_type": "stream",
     "text": [
      "[2, 4, 3, 9, 5, 6, 7]\n",
      "[4, 5, 6, 9, 7]\n",
      "[5, 7, 6, 9]\n",
      "[6, 7, 9]\n",
      "[7, 9]\n",
      "[9]\n",
      "[]\n"
     ]
    }
   ],
   "source": [
    "heap = [7,9,2,4,5,6,3]\n",
    "\n",
    "heapq.heapify(heap)\n",
    "print(heap)\n",
    "heapq.heappop(heap)\n",
    "while len(heap)>0:\n",
    "    heapq.heappop(heap)\n",
    "    print(heap)"
   ]
  },
  {
   "cell_type": "code",
   "execution_count": 16,
   "id": "0f019730-f835-47ed-b9a3-5d8cf74a3428",
   "metadata": {},
   "outputs": [
    {
     "name": "stdout",
     "output_type": "stream",
     "text": [
      "[1, 2]\n",
      "[1, 2]\n",
      "[0, 1]\n"
     ]
    }
   ],
   "source": [
    "heap = []\n",
    "node1 = 1\n",
    "node2 = 2\n",
    "heapq.heappush(heap, node1)\n",
    "heapq.heappush(heap, node2)\n",
    "print(heap)\n",
    "node2 = 0\n",
    "print(heap)\n",
    "heap[1] = 0\n",
    "heapq.heapify(heap)\n",
    "print(heap)"
   ]
  },
  {
   "cell_type": "code",
   "execution_count": 18,
   "id": "5fc61ce7-343f-4896-a204-de42166867d3",
   "metadata": {},
   "outputs": [
    {
     "name": "stdout",
     "output_type": "stream",
     "text": [
      "True\n"
     ]
    }
   ],
   "source": [
    "node1 = AStarNode((1,1), None)\n",
    "node2 = AStarNode((1,1), node1)\n",
    "print(node1==node2)"
   ]
  },
  {
   "cell_type": "code",
   "execution_count": 20,
   "id": "76fa2479-7618-4008-953c-6e329cc9e95e",
   "metadata": {},
   "outputs": [
    {
     "ename": "KeyError",
     "evalue": "(1, 0)",
     "output_type": "error",
     "traceback": [
      "\u001b[1;31m---------------------------------------------------------------------------\u001b[0m",
      "\u001b[1;31mKeyError\u001b[0m                                  Traceback (most recent call last)",
      "Cell \u001b[1;32mIn[20], line 3\u001b[0m\n\u001b[0;32m      1\u001b[0m \u001b[38;5;28mmap\u001b[39m \u001b[38;5;241m=\u001b[39m {}\n\u001b[0;32m      2\u001b[0m node_pos \u001b[38;5;241m=\u001b[39m (\u001b[38;5;241m1\u001b[39m,\u001b[38;5;241m0\u001b[39m)\n\u001b[1;32m----> 3\u001b[0m \u001b[38;5;28;01mif\u001b[39;00m \u001b[38;5;28;43mmap\u001b[39;49m\u001b[43m[\u001b[49m\u001b[43mnode_pos\u001b[49m\u001b[43m]\u001b[49m \u001b[38;5;241m!=\u001b[39m \u001b[38;5;28;01mNone\u001b[39;00m:\n\u001b[0;32m      4\u001b[0m     \u001b[38;5;28mprint\u001b[39m(\u001b[38;5;124m\"\u001b[39m\u001b[38;5;124mnot none\u001b[39m\u001b[38;5;124m\"\u001b[39m)\n\u001b[0;32m      5\u001b[0m \u001b[38;5;28;01melse\u001b[39;00m: \n",
      "\u001b[1;31mKeyError\u001b[0m: (1, 0)"
     ]
    }
   ],
   "source": [
    "map = {}\n",
    "node_pos = (1,0)\n",
    "if map[node_pos] != None:\n",
    "    print(\"not none\")\n",
    "else: \n",
    "    print(\"none\")"
   ]
  },
  {
   "cell_type": "code",
   "execution_count": 21,
   "id": "6ed1ce75-0e6c-4cf4-ae9f-fdf61e1ed23e",
   "metadata": {},
   "outputs": [
    {
     "name": "stdout",
     "output_type": "stream",
     "text": [
      "[<flatland.core.grid.grid4_astar.AStarNode object at 0x00000127CE560730>, <flatland.core.grid.grid4_astar.AStarNode object at 0x00000127CE5618A0>]\n"
     ]
    }
   ],
   "source": [
    "node = AStarNode((0,0), None)\n",
    "node1 = AStarNode((1,1), None)\n",
    "\n",
    "node.f = 5\n",
    "node1.f = 4\n",
    "heap=[]\n",
    "heapq.heappush(heap, node)\n",
    "heapq.heappush(heap,node1)\n",
    "print(heap)"
   ]
  },
  {
   "cell_type": "code",
   "execution_count": 25,
   "id": "b881baeb-b00c-427d-bbce-28f651d9f8a7",
   "metadata": {},
   "outputs": [
    {
     "ename": "ValueError",
     "evalue": "list.remove(x): x not in list",
     "output_type": "error",
     "traceback": [
      "\u001b[1;31m---------------------------------------------------------------------------\u001b[0m",
      "\u001b[1;31mValueError\u001b[0m                                Traceback (most recent call last)",
      "Cell \u001b[1;32mIn[25], line 2\u001b[0m\n\u001b[0;32m      1\u001b[0m node\u001b[38;5;241m.\u001b[39mf \u001b[38;5;241m=\u001b[39m \u001b[38;5;241m0\u001b[39m\n\u001b[1;32m----> 2\u001b[0m \u001b[43mheap\u001b[49m\u001b[38;5;241;43m.\u001b[39;49m\u001b[43mremove\u001b[49m\u001b[43m(\u001b[49m\u001b[43mnode\u001b[49m\u001b[43m)\u001b[49m\n\u001b[0;32m      3\u001b[0m heapq\u001b[38;5;241m.\u001b[39mheappush(heap, node)\n\u001b[0;32m      4\u001b[0m \u001b[38;5;28mprint\u001b[39m(heap)\n",
      "\u001b[1;31mValueError\u001b[0m: list.remove(x): x not in list"
     ]
    }
   ],
   "source": [
    "node.f = 0\n",
    "heap.remove(node)\n",
    "heapq.heappush(heap, node)\n",
    "print(heap)"
   ]
  },
  {
   "cell_type": "code",
   "execution_count": 23,
   "id": "ec9f4eec-97ad-427a-9dd1-6c7d2e003a5a",
   "metadata": {},
   "outputs": [
    {
     "name": "stdout",
     "output_type": "stream",
     "text": [
      "[<flatland.core.grid.grid4_astar.AStarNode object at 0x00000127CE560730>, <flatland.core.grid.grid4_astar.AStarNode object at 0x00000127CE5618A0>]\n"
     ]
    }
   ],
   "source": [
    "heapq.heapify(heap)\n",
    "print(heap)"
   ]
  },
  {
   "cell_type": "code",
   "execution_count": 24,
   "id": "55d2f42d-db9b-44cc-b863-94ca7e4e2034",
   "metadata": {},
   "outputs": [
    {
     "name": "stdout",
     "output_type": "stream",
     "text": [
      "4\n",
      "0\n"
     ]
    }
   ],
   "source": [
    "print(heapq.heappop(heap).f)\n",
    "print(heapq.heappop(heap).f)\n"
   ]
  },
  {
   "cell_type": "code",
   "execution_count": null,
   "id": "017e3d45-4f4f-43a2-abc5-126e58d21557",
   "metadata": {},
   "outputs": [],
   "source": []
  }
 ],
 "metadata": {
  "kernelspec": {
   "display_name": "Python 3 (ipykernel)",
   "language": "python",
   "name": "python3"
  },
  "language_info": {
   "codemirror_mode": {
    "name": "ipython",
    "version": 3
   },
   "file_extension": ".py",
   "mimetype": "text/x-python",
   "name": "python",
   "nbconvert_exporter": "python",
   "pygments_lexer": "ipython3",
   "version": "3.10.13"
  }
 },
 "nbformat": 4,
 "nbformat_minor": 5
}
