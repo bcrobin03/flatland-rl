{
 "cells": [
  {
   "cell_type": "code",
   "execution_count": 8,
   "id": "d9c19600-d872-4f4d-9b2e-0089772a3305",
   "metadata": {},
   "outputs": [],
   "source": [
    "import numpy as np\n",
    "\n",
    "from flatland.core.grid.rail_env_grid import RailEnvTransitions\n",
    "from flatland.core.transition_map import GridTransitionMap\n",
    "from flatland.envs.grid4_generators_utils import connect_rail_in_grid_map, connect_straight_line_in_grid_map, \\\n",
    "    fix_inner_nodes\n",
    "from flatland.envs.malfunction_generators import malfunction_from_params, MalfunctionParameters, ParamMalfunctionGen\n",
    "\n",
    "from flatland.envs.observations import GlobalObsForRailEnv\n",
    "# First of all we import the Flatland rail environment\n",
    "from flatland.envs.rail_env import RailEnv\n",
    "from flatland.envs.rail_env import RailEnvActions\n",
    "from flatland.envs.rail_generators import sparse_rail_generator\n",
    "#from flatland.envs.sparse_rail_gen import SparseRailGen\n",
    "from flatland.envs.line_generators import sparse_line_generator\n",
    "# We also include a renderer because we want to visualize what is going on in the environment\n",
    "from flatland.utils.rendertools import RenderTool, AgentRenderVariant\n",
    "\n",
    "import matplotlib.pyplot as plt\n",
    "\n",
    "\n"
   ]
  },
  {
   "cell_type": "code",
   "execution_count": 9,
   "id": "da16e55a",
   "metadata": {
    "vscode": {
     "languageId": "julia"
    }
   },
   "outputs": [],
   "source": [
    "rail_trans = RailEnvTransitions()\n",
    "grid_map = GridTransitionMap(width=20, height=20, transitions=rail_trans)\n",
    "grid_map.grid.fill(0)\n"
   ]
  },
  {
   "cell_type": "code",
   "execution_count": 10,
   "id": "04633e51-5beb-45d6-a9c2-b6974af12572",
   "metadata": {},
   "outputs": [
    {
     "name": "stdout",
     "output_type": "stream",
     "text": [
      "<flatland.core.transition_map.GridTransitionMap object at 0x7fedbea46b90>\n"
     ]
    }
   ],
   "source": [
    "print(grid_map)"
   ]
  },
  {
   "cell_type": "code",
   "execution_count": 11,
   "id": "f8061bbb-8723-4479-ac24-5347dcdcb657",
   "metadata": {},
   "outputs": [
    {
     "name": "stdout",
     "output_type": "stream",
     "text": [
      "[[0 0 0 0 0 0 0 0 0 0 0 0 0 0 0 0 0 0 0 0]\n",
      " [0 0 0 0 0 0 0 0 0 0 0 0 0 0 0 0 0 0 0 0]\n",
      " [0 0 0 0 0 0 0 0 0 0 0 0 0 0 0 0 0 0 0 0]\n",
      " [0 0 0 0 0 0 0 0 0 0 0 0 0 0 0 0 0 0 0 0]\n",
      " [0 0 0 0 0 0 0 0 0 0 0 0 0 0 0 0 0 0 0 0]\n",
      " [0 0 0 0 0 0 0 0 0 0 0 0 0 0 0 0 0 0 0 0]\n",
      " [0 0 0 0 0 0 0 0 0 0 0 0 0 0 0 0 0 0 0 0]\n",
      " [0 0 0 0 0 0 0 0 0 0 0 0 0 0 0 0 0 0 0 0]\n",
      " [0 0 0 0 0 0 0 0 0 0 0 0 0 0 0 0 0 0 0 0]\n",
      " [0 0 0 0 0 0 0 0 0 0 0 0 0 0 0 0 0 0 0 0]\n",
      " [0 0 0 0 0 0 0 0 0 0 0 0 0 0 0 0 0 0 0 0]\n",
      " [0 0 0 0 0 0 0 0 0 0 0 0 0 0 0 0 0 0 0 0]\n",
      " [0 0 0 0 0 0 0 0 0 0 0 0 0 0 0 0 0 0 0 0]\n",
      " [0 0 0 0 0 0 0 0 0 0 0 0 0 0 0 0 0 0 0 0]\n",
      " [0 0 0 0 0 0 0 0 0 0 0 0 0 0 0 0 0 0 0 0]\n",
      " [0 0 0 0 0 0 0 0 0 0 0 0 0 0 0 0 0 0 0 0]\n",
      " [0 0 0 0 0 0 0 0 0 0 0 0 0 0 0 0 0 0 0 0]\n",
      " [0 0 0 0 0 0 0 0 0 0 0 0 0 0 0 0 0 0 0 0]\n",
      " [0 0 0 0 0 0 0 0 0 0 0 0 0 0 0 0 0 0 0 0]\n",
      " [0 0 0 0 0 0 0 0 0 0 0 0 0 0 0 0 0 0 0 0]]\n"
     ]
    }
   ],
   "source": [
    "print(grid_map.grid)"
   ]
  },
  {
   "cell_type": "code",
   "execution_count": 12,
   "id": "e94b1e2f-9b07-496e-b01b-4bdf330cc727",
   "metadata": {},
   "outputs": [
    {
     "name": "stdout",
     "output_type": "stream",
     "text": [
      "\n",
      "\n",
      "\n",
      "running A*\n",
      "[(2, 2), (2, 3), (3, 3), (3, 4), (4, 4), (5, 4), (5, 5), (6, 5), (6, 6), (6, 7), (6, 8), (7, 8), (8, 8)]\n",
      "[(2, 2), (2, 3), (3, 3), (3, 4), (4, 4), (5, 4), (5, 5), (6, 5), (6, 6), (6, 7), (6, 8), (7, 8), (8, 8)]\n",
      "\n",
      "\n",
      "\n",
      "running A*\n",
      "[(1, 3), (1, 4), (1, 5), (1, 6), (1, 7)]\n",
      "\n",
      "\n",
      "\n",
      "running A*\n",
      "[(6, 1), (6, 2), (6, 3), (6, 4), (6, 5), (6, 6), (6, 7), (6, 8), (6, 9)]\n",
      "\n",
      "\n",
      "\n",
      "running A*\n",
      "[(4, 0), (4, 1), (4, 2), (5, 2), (5, 3), (6, 3), (7, 3), (7, 4), (7, 5), (7, 6), (7, 7), (7, 8), (7, 9), (8, 9), (8, 10)]\n"
     ]
    }
   ],
   "source": [
    "start_point = (2, 2)\n",
    "end_point = (8, 8)\n",
    "connection_001 = connect_rail_in_grid_map(grid_map, start_point, end_point, rail_trans, flip_start_node_trans=True,\n",
    "                                          flip_end_node_trans=True, respect_transition_validity=True,\n",
    "                                          forbidden_cells=None)\n",
    "connection_001_start = (2,2)\n",
    "connection_001_end = (8, 8)                               \n",
    "connection_001_expected = (13, connection_001_start,connection_001_end) \n",
    "print(connection_001)\n",
    "# Make connection with open ends on both sides\n",
    "start_point = (1, 3)\n",
    "end_point = (1, 7)\n",
    "connection_002 = connect_rail_in_grid_map(grid_map, start_point, end_point, rail_trans, flip_start_node_trans=False,\n",
    "                                          flip_end_node_trans=False, respect_transition_validity=True,\n",
    "                                          forbidden_cells=None)\n",
    "connection_002_start = (1,3)\n",
    "connection_002_end = (1, 7)\n",
    "connection_002_expected = (5, connection_002_start,connection_002_end) \n",
    "# Make connection with open end at beginning and dead end on end\n",
    "start_point = (6, 1)\n",
    "end_point = (6, 9)\n",
    "connection_003 = connect_rail_in_grid_map(grid_map, start_point, end_point, rail_trans, flip_start_node_trans=False,\n",
    "                                          flip_end_node_trans=True, respect_transition_validity=True,\n",
    "                                        forbidden_cells=None)\n",
    "connection_003_start = (6,1)\n",
    "connection_003_end = (6, 9)\n",
    "connection_003_expected = (9, connection_003_start, connection_003_end)\n",
    "# Make connection with dead end on start and opend end\n",
    "start_point = (4, 0)\n",
    "end_point = (8, 10)\n",
    "connection_004 = connect_rail_in_grid_map(grid_map, start_point, end_point, rail_trans, flip_start_node_trans=True,\n",
    "                                          flip_end_node_trans=False, respect_transition_validity=True,\n",
    "                                          forbidden_cells=None)\n",
    "connection_004_start = (4,0)\n",
    "connection_004_end = (8, 10)\n",
    "connection_004_expected = (15, connection_004_start, connection_004_end)\n",
    "\n",
    "\n",
    "    "
   ]
  },
  {
   "cell_type": "code",
   "execution_count": 13,
   "id": "53f60c55-503e-448a-8ec3-d793159d2ff3",
   "metadata": {},
   "outputs": [
    {
     "name": "stdout",
     "output_type": "stream",
     "text": [
      "[[    0     0     0     0     0     0     0     0     0     0     0     0\n",
      "      0     0     0     0     0     0     0     0]\n",
      " [    0     0     0     0  1025  1025  1025     0     0     0     0     0\n",
      "      0     0     0     0     0     0     0     0]\n",
      " [    0     0     4  4608     0     0     0     0     0     0     0     0\n",
      "      0     0     0     0     0     0     0     0]\n",
      " [    0     0     0    72  4608     0     0     0     0     0     0     0\n",
      "      0     0     0     0     0     0     0     0]\n",
      " [    4  1025  4608     0 32800     0     0     0     0     0     0     0\n",
      "      0     0     0     0     0     0     0     0]\n",
      " [    0     0    72  4608    72  4608     0     0     0     0     0     0\n",
      "      0     0     0     0     0     0     0     0]\n",
      " [    0     0  1025 33825  1025  1097  1025  1025  5633   256     0     0\n",
      "      0     0     0     0     0     0     0     0]\n",
      " [    0     0     0    72  1025  1025  1025  1025 33825  4608     0     0\n",
      "      0     0     0     0     0     0     0     0]\n",
      " [    0     0     0     0     0     0     0     0   128    72     0     0\n",
      "      0     0     0     0     0     0     0     0]\n",
      " [    0     0     0     0     0     0     0     0     0     0     0     0\n",
      "      0     0     0     0     0     0     0     0]\n",
      " [    0     0     0     0     0     0     0     0     0     0     0     0\n",
      "      0     0     0     0     0     0     0     0]\n",
      " [    0     0     0     0     0     0     0     0     0     0     0     0\n",
      "      0     0     0     0     0     0     0     0]\n",
      " [    0     0     0     0     0     0     0     0     0     0     0     0\n",
      "      0     0     0     0     0     0     0     0]\n",
      " [    0     0     0     0     0     0     0     0     0     0     0     0\n",
      "      0     0     0     0     0     0     0     0]\n",
      " [    0     0     0     0     0     0     0     0     0     0     0     0\n",
      "      0     0     0     0     0     0     0     0]\n",
      " [    0     0     0     0     0     0     0     0     0     0     0     0\n",
      "      0     0     0     0     0     0     0     0]\n",
      " [    0     0     0     0     0     0     0     0     0     0     0     0\n",
      "      0     0     0     0     0     0     0     0]\n",
      " [    0     0     0     0     0     0     0     0     0     0     0     0\n",
      "      0     0     0     0     0     0     0     0]\n",
      " [    0     0     0     0     0     0     0     0     0     0     0     0\n",
      "      0     0     0     0     0     0     0     0]\n",
      " [    0     0     0     0     0     0     0     0     0     0     0     0\n",
      "      0     0     0     0     0     0     0     0]]\n"
     ]
    }
   ],
   "source": [
    "print(grid_map.grid)"
   ]
  },
  {
   "cell_type": "code",
   "execution_count": 15,
   "id": "f4fe8d17-d82d-49b9-8639-8c09b65d2b6c",
   "metadata": {},
   "outputs": [
    {
     "name": "stdout",
     "output_type": "stream",
     "text": [
      "[0 0 0 0 0 0 0 0 0 0 0 0 0 0 0 0 0 0 0 0]\n",
      "[]\n",
      "[   0    0    0    0 1025 1025 1025    0    0    0    0    0    0    0\n",
      "    0    0    0    0    0    0]\n",
      "[1025 1025 1025]\n",
      "[   0    0    4 4608    0    0    0    0    0    0    0    0    0    0\n",
      "    0    0    0    0    0    0]\n",
      "[   4 4608]\n",
      "[   0    0    0   72 4608    0    0    0    0    0    0    0    0    0\n",
      "    0    0    0    0    0    0]\n",
      "[  72 4608]\n",
      "[    4  1025  4608     0 32800     0     0     0     0     0     0     0\n",
      "     0     0     0     0     0     0     0     0]\n",
      "[    4  1025  4608 32800]\n",
      "[   0    0   72 4608   72 4608    0    0    0    0    0    0    0    0\n",
      "    0    0    0    0    0    0]\n",
      "[  72 4608   72 4608]\n",
      "[    0     0  1025 33825  1025  1097  1025  1025  5633   256     0     0\n",
      "     0     0     0     0     0     0     0     0]\n",
      "[ 1025 33825  1025  1097  1025  1025  5633   256]\n",
      "[    0     0     0    72  1025  1025  1025  1025 33825  4608     0     0\n",
      "     0     0     0     0     0     0     0     0]\n",
      "[   72  1025  1025  1025  1025 33825  4608]\n",
      "[  0   0   0   0   0   0   0   0 128  72   0   0   0   0   0   0   0   0\n",
      "   0   0]\n",
      "[128  72]\n",
      "[0 0 0 0 0 0 0 0 0 0 0 0 0 0 0 0 0 0 0 0]\n",
      "[]\n",
      "[0 0 0 0 0 0 0 0 0 0 0 0 0 0 0 0 0 0 0 0]\n",
      "[]\n",
      "[0 0 0 0 0 0 0 0 0 0 0 0 0 0 0 0 0 0 0 0]\n",
      "[]\n",
      "[0 0 0 0 0 0 0 0 0 0 0 0 0 0 0 0 0 0 0 0]\n",
      "[]\n",
      "[0 0 0 0 0 0 0 0 0 0 0 0 0 0 0 0 0 0 0 0]\n",
      "[]\n",
      "[0 0 0 0 0 0 0 0 0 0 0 0 0 0 0 0 0 0 0 0]\n",
      "[]\n",
      "[0 0 0 0 0 0 0 0 0 0 0 0 0 0 0 0 0 0 0 0]\n",
      "[]\n",
      "[0 0 0 0 0 0 0 0 0 0 0 0 0 0 0 0 0 0 0 0]\n",
      "[]\n",
      "[0 0 0 0 0 0 0 0 0 0 0 0 0 0 0 0 0 0 0 0]\n",
      "[]\n",
      "[0 0 0 0 0 0 0 0 0 0 0 0 0 0 0 0 0 0 0 0]\n",
      "[]\n",
      "[0 0 0 0 0 0 0 0 0 0 0 0 0 0 0 0 0 0 0 0]\n",
      "[]\n"
     ]
    }
   ],
   "source": [
    "count = 0\n",
    "for i in range(20):\n",
    "    row = grid_map.grid[i]\n",
    "    print(row)\n",
    "    occupied = row[row>0]\n",
    "    print(occupied)\n",
    "    count += len(occupied)\n"
   ]
  },
  {
   "cell_type": "code",
   "execution_count": 17,
   "id": "4497fb92-4d8c-48ae-9334-fabd0a025fd5",
   "metadata": {},
   "outputs": [],
   "source": [
    "s1= set(connection_001)\n",
    "s2 = set(connection_002)\n",
    "s3= set(connection_003)\n",
    "s4= set(connection_004)"
   ]
  },
  {
   "cell_type": "code",
   "execution_count": 20,
   "id": "bd69735a-a019-4054-88b1-dbf878d6921e",
   "metadata": {},
   "outputs": [
    {
     "name": "stdout",
     "output_type": "stream",
     "text": [
      "{(6, 7), (6, 5), (6, 6), (6, 8), (6, 3), (7, 8)}\n"
     ]
    }
   ],
   "source": [
    "s = s1.intersection(s2)\n",
    "s.update(s1.intersection(s3))\n",
    "s.update(s1.intersection(s4))\n",
    "s.update(s2.intersection(s3))\n",
    "s.update(s2.intersection(s4))\n",
    "s.update(s3.intersection(s4))\n",
    "print(s)"
   ]
  },
  {
   "cell_type": "code",
   "execution_count": null,
   "id": "3a775a5b-5714-4ffd-b1ef-7d34cf7f59bf",
   "metadata": {},
   "outputs": [],
   "source": []
  }
 ],
 "metadata": {
  "kernelspec": {
   "display_name": "Python 3 (ipykernel)",
   "language": "python",
   "name": "python3"
  },
  "language_info": {
   "codemirror_mode": {
    "name": "ipython",
    "version": 3
   },
   "file_extension": ".py",
   "mimetype": "text/x-python",
   "name": "python",
   "nbconvert_exporter": "python",
   "pygments_lexer": "ipython3",
   "version": "3.10.13"
  }
 },
 "nbformat": 4,
 "nbformat_minor": 5
}
