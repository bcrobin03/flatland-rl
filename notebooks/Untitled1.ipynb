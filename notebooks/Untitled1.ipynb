{
 "cells": [
  {
   "cell_type": "code",
   "execution_count": null,
   "id": "d9c19600-d872-4f4d-9b2e-0089772a3305",
   "metadata": {},
   "outputs": [],
   "source": [
    "def astar(start, goal):\n",
    "    OpenSet = [start]\n",
    "    Closed_Nodes = []\n",
    "    directions = [(0, -1), (0, 1), (-1, 0), (1, 0)]\n",
    "    \n",
    "    while len(OpenSet)>0:\n",
    "        current = heapq.heappop(heap)\n",
    "        if current  == goal:\n",
    "            return reconstruct_path(closed_Nodes)\n",
    "        \n",
    "        closed_Nodes.append(current)\n",
    "        for dir in directions:\n",
    "            node_pos: IntVector2D = Vec2d.add(current_node.pos, new_pos)\n",
    "            \n",
    "            if node_pos[0] >= rail_shape[0] or node_pos[0] < 0 or node_pos[1] >= rail_shape[1] or node_pos[1] < 0:\n",
    "                continue\n",
    "\n",
    "            if not grid_map.validate_new_transition(prev_pos, current_node.pos, node_pos,\n",
    "                                                    end_node.pos) and respect_transition_validity:\n",
    "            continue"
   ]
  }
 ],
 "metadata": {
  "kernelspec": {
   "display_name": "Python 3 (ipykernel)",
   "language": "python",
   "name": "python3"
  },
  "language_info": {
   "codemirror_mode": {
    "name": "ipython",
    "version": 3
   },
   "file_extension": ".py",
   "mimetype": "text/x-python",
   "name": "python",
   "nbconvert_exporter": "python",
   "pygments_lexer": "ipython3",
   "version": "3.11.5"
  }
 },
 "nbformat": 4,
 "nbformat_minor": 5
}
