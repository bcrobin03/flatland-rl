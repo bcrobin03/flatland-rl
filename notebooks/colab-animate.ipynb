{
 "cells": [
  {
   "cell_type": "markdown",
   "metadata": {
    "id": "G6fFcNbhYPo4"
   },
   "source": [
    "# Simple Animation Demo"
   ]
  },
  {
   "cell_type": "code",
   "execution_count": 1,
   "metadata": {
    "colab": {
     "base_uri": "https://localhost:8080/"
    },
    "id": "025Wo5mfYS3v",
    "outputId": "48a2bb6e-2972-41e1-b36d-f6031bda5b67",
    "tags": []
   },
   "outputs": [
    {
     "name": "stderr",
     "output_type": "stream",
     "text": [
      "Cloning into 'flatland-rl'...\n"
     ]
    },
    {
     "name": "stdout",
     "output_type": "stream",
     "text": [
      "Obtaining file:///C:/Users/robin/Documents/EPFL/BA6/Bachelor_project/flatland-rl/notebooks/flatland-rl\n",
      "  Preparing metadata (setup.py): started\n",
      "  Preparing metadata (setup.py): still running...\n",
      "  Preparing metadata (setup.py): finished with status 'error'\n"
     ]
    },
    {
     "name": "stderr",
     "output_type": "stream",
     "text": [
      "  error: subprocess-exited-with-error\n",
      "  \n",
      "  python setup.py egg_info did not run successfully.\n",
      "  exit code: 1\n",
      "  \n",
      "  [33 lines of output]\n",
      "  C:\\Users\\robin\\anaconda3\\Lib\\site-packages\\setuptools\\__init__.py:84: _DeprecatedInstaller: setuptools.installer and fetch_build_eggs are deprecated.\n",
      "  !!\n",
      "  \n",
      "          ********************************************************************************\n",
      "          Requirements should be satisfied by a PEP 517 installer.\n",
      "          If you are using pip, you can try `pip install --use-pep517`.\n",
      "          ********************************************************************************\n",
      "  \n",
      "  !!\n",
      "    dist.fetch_build_eggs(dist.setup_requires)\n",
      "  Traceback (most recent call last):\n",
      "    File \"<string>\", line 2, in <module>\n",
      "    File \"<pip-setuptools-caller>\", line 34, in <module>\n",
      "    File \"C:\\Users\\robin\\Documents\\EPFL\\BA6\\Bachelor_project\\flatland-rl\\notebooks\\flatland-rl\\setup.py\", line 52, in <module>\n",
      "      setup(\n",
      "    File \"C:\\Users\\robin\\anaconda3\\Lib\\site-packages\\setuptools\\__init__.py\", line 106, in setup\n",
      "      _install_setup_requires(attrs)\n",
      "    File \"C:\\Users\\robin\\anaconda3\\Lib\\site-packages\\setuptools\\__init__.py\", line 79, in _install_setup_requires\n",
      "      _fetch_build_eggs(dist)\n",
      "    File \"C:\\Users\\robin\\anaconda3\\Lib\\site-packages\\setuptools\\__init__.py\", line 84, in _fetch_build_eggs\n",
      "      dist.fetch_build_eggs(dist.setup_requires)\n",
      "    File \"C:\\Users\\robin\\anaconda3\\Lib\\site-packages\\setuptools\\dist.py\", line 907, in fetch_build_eggs\n",
      "      return _fetch_build_eggs(self, requires)\n",
      "             ^^^^^^^^^^^^^^^^^^^^^^^^^^^^^^^^^\n",
      "    File \"C:\\Users\\robin\\anaconda3\\Lib\\site-packages\\setuptools\\installer.py\", line 38, in _fetch_build_eggs\n",
      "      resolved_dists = pkg_resources.working_set.resolve(\n",
      "                       ^^^^^^^^^^^^^^^^^^^^^^^^^^^^^^^^^^\n",
      "    File \"C:\\Users\\robin\\anaconda3\\Lib\\site-packages\\pkg_resources\\__init__.py\", line 829, in resolve\n",
      "      dist = self._resolve_dist(\n",
      "             ^^^^^^^^^^^^^^^^^^^\n",
      "    File \"C:\\Users\\robin\\anaconda3\\Lib\\site-packages\\pkg_resources\\__init__.py\", line 875, in _resolve_dist\n",
      "      raise VersionConflict(dist, req).with_context(dependent_req)\n",
      "  pkg_resources.ContextualVersionConflict: (pluggy 0.13.1 (c:\\users\\robin\\documents\\epfl\\ba6\\bachelor_project\\flatland-rl\\notebooks\\flatland-rl\\.eggs\\pluggy-0.13.1-py3.11.egg), Requirement.parse('pluggy>=1.3'), {'tox'})\n",
      "  [end of output]\n",
      "  \n",
      "  note: This error originates from a subprocess, and is likely not a problem with pip.\n",
      "error: metadata-generation-failed\n",
      "\n",
      "Encountered error while generating package metadata.\n",
      "\n",
      "See above for output.\n",
      "\n",
      "note: This is an issue with the package mentioned above, not pip.\n",
      "hint: See above for details.\n"
     ]
    },
    {
     "name": "stdout",
     "output_type": "stream",
     "text": [
      "Collecting ipycanvas==0.11.0\n",
      "  Downloading ipycanvas-0.11.0-py2.py3-none-any.whl.metadata (928 bytes)\n",
      "Requirement already satisfied: ipywidgets>=7.6.0 in c:\\users\\robin\\anaconda3\\lib\\site-packages (from ipycanvas==0.11.0) (8.0.4)\n",
      "Requirement already satisfied: pillow>=6.0 in c:\\users\\robin\\anaconda3\\lib\\site-packages (from ipycanvas==0.11.0) (10.0.1)\n",
      "Requirement already satisfied: numpy in c:\\users\\robin\\anaconda3\\lib\\site-packages (from ipycanvas==0.11.0) (1.24.3)\n",
      "Requirement already satisfied: ipykernel>=4.5.1 in c:\\users\\robin\\anaconda3\\lib\\site-packages (from ipywidgets>=7.6.0->ipycanvas==0.11.0) (6.25.0)\n",
      "Requirement already satisfied: ipython>=6.1.0 in c:\\users\\robin\\anaconda3\\lib\\site-packages (from ipywidgets>=7.6.0->ipycanvas==0.11.0) (8.15.0)\n",
      "Requirement already satisfied: traitlets>=4.3.1 in c:\\users\\robin\\anaconda3\\lib\\site-packages (from ipywidgets>=7.6.0->ipycanvas==0.11.0) (5.7.1)\n",
      "Requirement already satisfied: widgetsnbextension~=4.0 in c:\\users\\robin\\anaconda3\\lib\\site-packages (from ipywidgets>=7.6.0->ipycanvas==0.11.0) (4.0.5)\n",
      "Requirement already satisfied: jupyterlab-widgets~=3.0 in c:\\users\\robin\\anaconda3\\lib\\site-packages (from ipywidgets>=7.6.0->ipycanvas==0.11.0) (3.0.5)\n",
      "Requirement already satisfied: comm>=0.1.1 in c:\\users\\robin\\anaconda3\\lib\\site-packages (from ipykernel>=4.5.1->ipywidgets>=7.6.0->ipycanvas==0.11.0) (0.1.2)\n",
      "Requirement already satisfied: debugpy>=1.6.5 in c:\\users\\robin\\anaconda3\\lib\\site-packages (from ipykernel>=4.5.1->ipywidgets>=7.6.0->ipycanvas==0.11.0) (1.6.7)\n",
      "Requirement already satisfied: jupyter-client>=6.1.12 in c:\\users\\robin\\anaconda3\\lib\\site-packages (from ipykernel>=4.5.1->ipywidgets>=7.6.0->ipycanvas==0.11.0) (7.4.9)\n",
      "Requirement already satisfied: jupyter-core!=5.0.*,>=4.12 in c:\\users\\robin\\anaconda3\\lib\\site-packages (from ipykernel>=4.5.1->ipywidgets>=7.6.0->ipycanvas==0.11.0) (5.3.0)\n",
      "Requirement already satisfied: matplotlib-inline>=0.1 in c:\\users\\robin\\anaconda3\\lib\\site-packages (from ipykernel>=4.5.1->ipywidgets>=7.6.0->ipycanvas==0.11.0) (0.1.6)\n",
      "Requirement already satisfied: nest-asyncio in c:\\users\\robin\\anaconda3\\lib\\site-packages (from ipykernel>=4.5.1->ipywidgets>=7.6.0->ipycanvas==0.11.0) (1.5.6)\n",
      "Requirement already satisfied: packaging in c:\\users\\robin\\anaconda3\\lib\\site-packages (from ipykernel>=4.5.1->ipywidgets>=7.6.0->ipycanvas==0.11.0) (23.1)\n",
      "Requirement already satisfied: psutil in c:\\users\\robin\\anaconda3\\lib\\site-packages (from ipykernel>=4.5.1->ipywidgets>=7.6.0->ipycanvas==0.11.0) (5.9.0)\n",
      "Requirement already satisfied: pyzmq>=20 in c:\\users\\robin\\anaconda3\\lib\\site-packages (from ipykernel>=4.5.1->ipywidgets>=7.6.0->ipycanvas==0.11.0) (23.2.0)\n",
      "Requirement already satisfied: tornado>=6.1 in c:\\users\\robin\\anaconda3\\lib\\site-packages (from ipykernel>=4.5.1->ipywidgets>=7.6.0->ipycanvas==0.11.0) (6.3.3)\n",
      "Requirement already satisfied: backcall in c:\\users\\robin\\anaconda3\\lib\\site-packages (from ipython>=6.1.0->ipywidgets>=7.6.0->ipycanvas==0.11.0) (0.2.0)\n",
      "Requirement already satisfied: decorator in c:\\users\\robin\\anaconda3\\lib\\site-packages (from ipython>=6.1.0->ipywidgets>=7.6.0->ipycanvas==0.11.0) (5.1.1)\n",
      "Requirement already satisfied: jedi>=0.16 in c:\\users\\robin\\anaconda3\\lib\\site-packages (from ipython>=6.1.0->ipywidgets>=7.6.0->ipycanvas==0.11.0) (0.18.1)\n",
      "Requirement already satisfied: pickleshare in c:\\users\\robin\\anaconda3\\lib\\site-packages (from ipython>=6.1.0->ipywidgets>=7.6.0->ipycanvas==0.11.0) (0.7.5)\n",
      "Requirement already satisfied: prompt-toolkit!=3.0.37,<3.1.0,>=3.0.30 in c:\\users\\robin\\anaconda3\\lib\\site-packages (from ipython>=6.1.0->ipywidgets>=7.6.0->ipycanvas==0.11.0) (3.0.36)\n",
      "Requirement already satisfied: pygments>=2.4.0 in c:\\users\\robin\\anaconda3\\lib\\site-packages (from ipython>=6.1.0->ipywidgets>=7.6.0->ipycanvas==0.11.0) (2.15.1)\n",
      "Requirement already satisfied: stack-data in c:\\users\\robin\\anaconda3\\lib\\site-packages (from ipython>=6.1.0->ipywidgets>=7.6.0->ipycanvas==0.11.0) (0.2.0)\n",
      "Requirement already satisfied: colorama in c:\\users\\robin\\anaconda3\\lib\\site-packages (from ipython>=6.1.0->ipywidgets>=7.6.0->ipycanvas==0.11.0) (0.4.6)\n",
      "Requirement already satisfied: parso<0.9.0,>=0.8.0 in c:\\users\\robin\\anaconda3\\lib\\site-packages (from jedi>=0.16->ipython>=6.1.0->ipywidgets>=7.6.0->ipycanvas==0.11.0) (0.8.3)\n",
      "Requirement already satisfied: entrypoints in c:\\users\\robin\\anaconda3\\lib\\site-packages (from jupyter-client>=6.1.12->ipykernel>=4.5.1->ipywidgets>=7.6.0->ipycanvas==0.11.0) (0.4)\n",
      "Requirement already satisfied: python-dateutil>=2.8.2 in c:\\users\\robin\\anaconda3\\lib\\site-packages (from jupyter-client>=6.1.12->ipykernel>=4.5.1->ipywidgets>=7.6.0->ipycanvas==0.11.0) (2.8.2)\n",
      "Requirement already satisfied: platformdirs>=2.5 in c:\\users\\robin\\anaconda3\\lib\\site-packages (from jupyter-core!=5.0.*,>=4.12->ipykernel>=4.5.1->ipywidgets>=7.6.0->ipycanvas==0.11.0) (3.10.0)\n",
      "Requirement already satisfied: pywin32>=300 in c:\\users\\robin\\anaconda3\\lib\\site-packages (from jupyter-core!=5.0.*,>=4.12->ipykernel>=4.5.1->ipywidgets>=7.6.0->ipycanvas==0.11.0) (305.1)\n",
      "Requirement already satisfied: wcwidth in c:\\users\\robin\\anaconda3\\lib\\site-packages (from prompt-toolkit!=3.0.37,<3.1.0,>=3.0.30->ipython>=6.1.0->ipywidgets>=7.6.0->ipycanvas==0.11.0) (0.2.5)\n",
      "Requirement already satisfied: executing in c:\\users\\robin\\anaconda3\\lib\\site-packages (from stack-data->ipython>=6.1.0->ipywidgets>=7.6.0->ipycanvas==0.11.0) (0.8.3)\n",
      "Requirement already satisfied: asttokens in c:\\users\\robin\\anaconda3\\lib\\site-packages (from stack-data->ipython>=6.1.0->ipywidgets>=7.6.0->ipycanvas==0.11.0) (2.0.5)\n",
      "Requirement already satisfied: pure-eval in c:\\users\\robin\\anaconda3\\lib\\site-packages (from stack-data->ipython>=6.1.0->ipywidgets>=7.6.0->ipycanvas==0.11.0) (0.2.2)\n",
      "Requirement already satisfied: six>=1.5 in c:\\users\\robin\\anaconda3\\lib\\site-packages (from python-dateutil>=2.8.2->jupyter-client>=6.1.12->ipykernel>=4.5.1->ipywidgets>=7.6.0->ipycanvas==0.11.0) (1.16.0)\n",
      "Downloading ipycanvas-0.11.0-py2.py3-none-any.whl (255 kB)\n",
      "   ---------------------------------------- 0.0/255.8 kB ? eta -:--:--\n",
      "   ---------------------------------------- 0.0/255.8 kB ? eta -:--:--\n",
      "   - -------------------------------------- 10.2/255.8 kB ? eta -:--:--\n",
      "   ------ -------------------------------- 41.0/255.8 kB 487.6 kB/s eta 0:00:01\n",
      "   -------------------------------------- - 245.8/255.8 kB 2.2 MB/s eta 0:00:01\n",
      "   ---------------------------------------- 255.8/255.8 kB 1.7 MB/s eta 0:00:00\n",
      "Installing collected packages: ipycanvas\n",
      "  Attempting uninstall: ipycanvas\n",
      "    Found existing installation: ipycanvas 0.13.1\n",
      "    Uninstalling ipycanvas-0.13.1:\n",
      "      Successfully uninstalled ipycanvas-0.13.1\n",
      "Successfully installed ipycanvas-0.11.0\n"
     ]
    }
   ],
   "source": [
    "##!pip install flatland-rl\n",
    "!git clone https://github.com/hagrid67/flatland-rl.git\n",
    "!pip install -e ./flatland-rl\n",
    "!pip install ipycanvas==0.11.0\n"
   ]
  },
  {
   "cell_type": "code",
   "execution_count": 2,
   "metadata": {
    "colab": {
     "base_uri": "https://localhost:8080/"
    },
    "id": "k6t-wa1_ZYan",
    "outputId": "ebf5bd82-bdd8-4955-d377-7ce244e4164c",
    "tags": []
   },
   "outputs": [
    {
     "name": "stdout",
     "output_type": "stream",
     "text": [
      "Obtaining file:///C:/Users/robin/Documents/EPFL/BA6/Bachelor_project/flatland-rl/notebooks/flatland-rl"
     ]
    },
    {
     "name": "stderr",
     "output_type": "stream",
     "text": [
      "  error: subprocess-exited-with-error\n",
      "  \n",
      "  python setup.py egg_info did not run successfully.\n",
      "  exit code: 1\n",
      "  \n",
      "  [33 lines of output]\n",
      "  C:\\Users\\robin\\anaconda3\\Lib\\site-packages\\setuptools\\__init__.py:84: _DeprecatedInstaller: setuptools.installer and fetch_build_eggs are deprecated.\n",
      "  !!\n",
      "  \n",
      "          ********************************************************************************\n",
      "          Requirements should be satisfied by a PEP 517 installer.\n",
      "          If you are using pip, you can try `pip install --use-pep517`.\n",
      "          ********************************************************************************\n",
      "  \n",
      "  !!\n",
      "    dist.fetch_build_eggs(dist.setup_requires)\n",
      "  Traceback (most recent call last):\n",
      "    File \"<string>\", line 2, in <module>\n",
      "    File \"<pip-setuptools-caller>\", line 34, in <module>\n",
      "    File \"C:\\Users\\robin\\Documents\\EPFL\\BA6\\Bachelor_project\\flatland-rl\\notebooks\\flatland-rl\\setup.py\", line 52, in <module>\n",
      "      setup(\n",
      "    File \"C:\\Users\\robin\\anaconda3\\Lib\\site-packages\\setuptools\\__init__.py\", line 106, in setup\n",
      "      _install_setup_requires(attrs)\n",
      "    File \"C:\\Users\\robin\\anaconda3\\Lib\\site-packages\\setuptools\\__init__.py\", line 79, in _install_setup_requires\n",
      "      _fetch_build_eggs(dist)\n",
      "    File \"C:\\Users\\robin\\anaconda3\\Lib\\site-packages\\setuptools\\__init__.py\", line 84, in _fetch_build_eggs\n",
      "      dist.fetch_build_eggs(dist.setup_requires)\n",
      "    File \"C:\\Users\\robin\\anaconda3\\Lib\\site-packages\\setuptools\\dist.py\", line 907, in fetch_build_eggs\n",
      "      return _fetch_build_eggs(self, requires)\n",
      "             ^^^^^^^^^^^^^^^^^^^^^^^^^^^^^^^^^\n",
      "    File \"C:\\Users\\robin\\anaconda3\\Lib\\site-packages\\setuptools\\installer.py\", line 38, in _fetch_build_eggs\n",
      "      resolved_dists = pkg_resources.working_set.resolve(\n",
      "                       ^^^^^^^^^^^^^^^^^^^^^^^^^^^^^^^^^^\n",
      "    File \"C:\\Users\\robin\\anaconda3\\Lib\\site-packages\\pkg_resources\\__init__.py\", line 829, in resolve\n",
      "      dist = self._resolve_dist(\n",
      "             ^^^^^^^^^^^^^^^^^^^\n",
      "    File \"C:\\Users\\robin\\anaconda3\\Lib\\site-packages\\pkg_resources\\__init__.py\", line 875, in _resolve_dist\n",
      "      raise VersionConflict(dist, req).with_context(dependent_req)\n",
      "  pkg_resources.ContextualVersionConflict: (pluggy 0.13.1 (c:\\users\\robin\\documents\\epfl\\ba6\\bachelor_project\\flatland-rl\\notebooks\\flatland-rl\\.eggs\\pluggy-0.13.1-py3.11.egg), Requirement.parse('pluggy>=1.3'), {'tox'})\n",
      "  [end of output]\n",
      "  \n",
      "  note: This error originates from a subprocess, and is likely not a problem with pip.\n",
      "error: metadata-generation-failed\n",
      "\n",
      "Encountered error while generating package metadata.\n",
      "\n",
      "See above for output.\n",
      "\n",
      "note: This is an issue with the package mentioned above, not pip.\n",
      "hint: See above for details.\n"
     ]
    },
    {
     "name": "stdout",
     "output_type": "stream",
     "text": [
      "\n",
      "  Preparing metadata (setup.py): started\n",
      "  Preparing metadata (setup.py): finished with status 'error'\n"
     ]
    }
   ],
   "source": [
    "#!pip install flatland-rl\n",
    "!pip install -e ./flatland-rl\n",
    "#!ls ./flatland-rl"
   ]
  },
  {
   "cell_type": "code",
   "execution_count": 3,
   "metadata": {
    "id": "UICEvPxiZ5tI",
    "tags": []
   },
   "outputs": [],
   "source": [
    "from flatland.utils.rendertools import RenderTool"
   ]
  },
  {
   "cell_type": "code",
   "execution_count": 4,
   "metadata": {
    "id": "eXRPH8_IYPo8",
    "tags": []
   },
   "outputs": [],
   "source": [
    "#%load_ext autoreload\n",
    "#%autoreload 2"
   ]
  },
  {
   "cell_type": "code",
   "execution_count": 10,
   "metadata": {
    "id": "5fdTyrEhfHEp",
    "tags": []
   },
   "outputs": [
    {
     "ename": "ModuleNotFoundError",
     "evalue": "No module named 'google.colab'",
     "output_type": "error",
     "traceback": [
      "\u001b[1;31m---------------------------------------------------------------------------\u001b[0m",
      "\u001b[1;31mModuleNotFoundError\u001b[0m                       Traceback (most recent call last)",
      "Cell \u001b[1;32mIn[10], line 1\u001b[0m\n\u001b[1;32m----> 1\u001b[0m \u001b[38;5;28;01mfrom\u001b[39;00m \u001b[38;5;21;01mgoogle\u001b[39;00m\u001b[38;5;21;01m.\u001b[39;00m\u001b[38;5;21;01mcolab\u001b[39;00m \u001b[38;5;28;01mimport\u001b[39;00m output\n\u001b[0;32m      2\u001b[0m output\u001b[38;5;241m.\u001b[39menable_custom_widget_manager()\n",
      "\u001b[1;31mModuleNotFoundError\u001b[0m: No module named 'google.colab'"
     ]
    }
   ],
   "source": [
    "from google.colab import output\n",
    "output.enable_custom_widget_manager()\n"
   ]
  },
  {
   "cell_type": "code",
   "execution_count": 7,
   "metadata": {
    "id": "ZjZxbOe-YPo-",
    "tags": []
   },
   "outputs": [],
   "source": [
    "import numpy as np\n",
    "import time\n",
    "from IPython import display\n",
    "from ipycanvas import canvas\n",
    "from flatland.utils.rendertools import RenderTool\n",
    "from flatland.envs.rail_env import RailEnv\n",
    "from flatland.envs.rail_env import RailEnvActions as rea\n",
    "from flatland.envs.persistence import RailEnvPersister"
   ]
  },
  {
   "cell_type": "code",
   "execution_count": 8,
   "metadata": {
    "colab": {
     "base_uri": "https://localhost:8080/"
    },
    "id": "-jaHoSZDYPo-",
    "outputId": "6e477b0d-a7a1-4156-e943-50e00623f5e3",
    "tags": []
   },
   "outputs": [
    {
     "name": "stdout",
     "output_type": "stream",
     "text": [
      "pickle failed to load file: complex_scene_2.pkl  trying msgpack (deprecated)...\n",
      "pickle failed to load file: complex_scene_2.pkl  trying msgpack (deprecated)...\n",
      "pickle failed to load file: complex_scene_2.pkl  trying msgpack (deprecated)...\n",
      "This env file has no max_episode_steps (deprecated) - setting to 100\n"
     ]
    },
    {
     "data": {
      "text/plain": [
       "flatland.envs.rail_env.RailEnv"
      ]
     },
     "execution_count": 8,
     "metadata": {},
     "output_type": "execute_result"
    }
   ],
   "source": [
    "env, env_dict = RailEnvPersister.load_new(\"complex_scene_2.pkl\", load_from_package=\"env_data.railway\")\n",
    "_ = env.reset()\n",
    "env._max_episode_steps = 100\n",
    "type(env)"
   ]
  },
  {
   "cell_type": "code",
   "execution_count": 9,
   "metadata": {
    "colab": {
     "base_uri": "https://localhost:8080/",
     "height": 521,
     "referenced_widgets": [
      "471637a04ee54de8a6d3a9c1de37e7f6",
      "4a3b70e0c67045719c6de0114180fb0e"
     ]
    },
    "id": "-upfe3SVYPo_",
    "outputId": "7a10e3a2-7ce1-4e94-c255-bbb40c88852e",
    "tags": []
   },
   "outputs": [
    {
     "data": {
      "application/vnd.jupyter.widget-view+json": {
       "model_id": "d31ed4b20d374657ac2b01453a93d09e",
       "version_major": 2,
       "version_minor": 0
      },
      "text/plain": [
       "Canvas()"
      ]
     },
     "metadata": {},
     "output_type": "display_data"
    }
   ],
   "source": [
    "oRT = RenderTool(env, gl=\"PILSVG\", jupyter=False, show_debug=True)\n",
    "image_arr = oRT.get_image()\n",
    "oCanvas = canvas.Canvas()\n",
    "oCanvas.put_image_data(image_arr[:,:,0:3])\n",
    "display.display(oCanvas)\n",
    "\n",
    "done={\"__all__\":False}\n",
    "while not done[\"__all__\"]:\n",
    "    actions = {}\n",
    "    for agent_handle, agents in enumerate(env.agents):\n",
    "        actions.update({agent_handle:rea.MOVE_FORWARD})\n",
    "    obs, rew, done, info = env.step(actions)\n",
    "    oRT.render_env(show_observations=False,show_predictions=False)\n",
    "    gIm = oRT.get_image()\n",
    "    oCanvas.put_image_data(gIm[:,:,0:3])\n",
    "    time.sleep(0.5)"
   ]
  },
  {
   "cell_type": "code",
   "execution_count": null,
   "metadata": {
    "id": "BJiAbnEjbJ9g"
   },
   "outputs": [],
   "source": []
  }
 ],
 "metadata": {
  "colab": {
   "provenance": []
  },
  "hide_input": false,
  "kernelspec": {
   "display_name": "Python 3 (ipykernel)",
   "language": "python",
   "name": "python3"
  },
  "language_info": {
   "codemirror_mode": {
    "name": "ipython",
    "version": 3
   },
   "file_extension": ".py",
   "mimetype": "text/x-python",
   "name": "python",
   "nbconvert_exporter": "python",
   "pygments_lexer": "ipython3",
   "version": "3.11.5"
  },
  "latex_envs": {
   "LaTeX_envs_menu_present": true,
   "autoclose": false,
   "autocomplete": true,
   "bibliofile": "biblio.bib",
   "cite_by": "apalike",
   "current_citInitial": 1,
   "eqLabelWithNumbers": true,
   "eqNumInitial": 1,
   "hotkeys": {
    "equation": "Ctrl-E",
    "itemize": "Ctrl-I"
   },
   "labels_anchors": false,
   "latex_user_defs": false,
   "report_style_numbering": false,
   "user_envs_cfg": false
  },
  "toc": {
   "base_numbering": 1,
   "nav_menu": {},
   "number_sections": true,
   "sideBar": true,
   "skip_h1_title": false,
   "title_cell": "Table of Contents",
   "title_sidebar": "Contents",
   "toc_cell": false,
   "toc_position": {},
   "toc_section_display": true,
   "toc_window_display": false
  },
  "varInspector": {
   "cols": {
    "lenName": 16,
    "lenType": 16,
    "lenVar": 40
   },
   "kernels_config": {
    "python": {
     "delete_cmd_postfix": "",
     "delete_cmd_prefix": "del ",
     "library": "var_list.py",
     "varRefreshCmd": "print(var_dic_list())"
    },
    "r": {
     "delete_cmd_postfix": ") ",
     "delete_cmd_prefix": "rm(",
     "library": "var_list.r",
     "varRefreshCmd": "cat(var_dic_list()) "
    }
   },
   "types_to_exclude": [
    "module",
    "function",
    "builtin_function_or_method",
    "instance",
    "_Feature"
   ],
   "window_display": false
  },
  "widgets": {
   "application/vnd.jupyter.widget-state+json": {
    "471637a04ee54de8a6d3a9c1de37e7f6": {
     "model_module": "ipycanvas",
     "model_module_version": "^0.11.0",
     "model_name": "CanvasModel",
     "state": {
      "_dom_classes": [],
      "_model_module": "ipycanvas",
      "_model_module_version": "^0.11.0",
      "_model_name": "CanvasModel",
      "_send_client_ready_event": true,
      "_view_count": null,
      "_view_module": "ipycanvas",
      "_view_module_version": "^0.11.0",
      "_view_name": "CanvasView",
      "height": 500,
      "image_data": null,
      "layout": "IPY_MODEL_4a3b70e0c67045719c6de0114180fb0e",
      "sync_image_data": false,
      "width": 700
     }
    },
    "4a3b70e0c67045719c6de0114180fb0e": {
     "model_module": "@jupyter-widgets/base",
     "model_module_version": "1.2.0",
     "model_name": "LayoutModel",
     "state": {
      "_model_module": "@jupyter-widgets/base",
      "_model_module_version": "1.2.0",
      "_model_name": "LayoutModel",
      "_view_count": null,
      "_view_module": "@jupyter-widgets/base",
      "_view_module_version": "1.2.0",
      "_view_name": "LayoutView",
      "align_content": null,
      "align_items": null,
      "align_self": null,
      "border": null,
      "bottom": null,
      "display": null,
      "flex": null,
      "flex_flow": null,
      "grid_area": null,
      "grid_auto_columns": null,
      "grid_auto_flow": null,
      "grid_auto_rows": null,
      "grid_column": null,
      "grid_gap": null,
      "grid_row": null,
      "grid_template_areas": null,
      "grid_template_columns": null,
      "grid_template_rows": null,
      "height": null,
      "justify_content": null,
      "justify_items": null,
      "left": null,
      "margin": null,
      "max_height": null,
      "max_width": null,
      "min_height": null,
      "min_width": null,
      "object_fit": null,
      "object_position": null,
      "order": null,
      "overflow": null,
      "overflow_x": null,
      "overflow_y": null,
      "padding": null,
      "right": null,
      "top": null,
      "visibility": null,
      "width": null
     }
    }
   }
  }
 },
 "nbformat": 4,
 "nbformat_minor": 4
}
